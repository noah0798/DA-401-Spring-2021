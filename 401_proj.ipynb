{
 "cells": [
  {
   "cell_type": "code",
   "execution_count": 88,
   "metadata": {},
   "outputs": [],
   "source": [
    "import pandas as pd\n",
    "from sklearn.linear_model import LogisticRegression\n",
    "from sklearn.model_selection import train_test_split\n",
    "from sklearn.tree import DecisionTreeClassifier\n",
    "from sklearn import tree\n",
    "import seaborn as sns\n",
    "import numpy as np\n",
    "from functools import reduce\n",
    "from sklearn.cluster import KMeans\n",
    "import matplotlib.pyplot as plt\n",
    "from sklearn import metrics\n",
    "from sklearn.tree import export_graphviz\n",
    "from IPython.display import Image  \n",
    "import pydotplus\n",
    "from sklearn import preprocessing"
   ]
  },
  {
   "cell_type": "code",
   "execution_count": 3,
   "metadata": {},
   "outputs": [],
   "source": [
    "df = pd.read_excel(\"MPVDatasetDownload.xlsx\")"
   ]
  },
  {
   "cell_type": "code",
   "execution_count": 4,
   "metadata": {},
   "outputs": [],
   "source": [
    "df = df.drop(df.columns[[29,30,31,32,33,34,35,36,37,38,39,40,41,42,43,44,45,46,47,48,49]], axis=1)"
   ]
  },
  {
   "cell_type": "code",
   "execution_count": 5,
   "metadata": {},
   "outputs": [
    {
     "data": {
      "text/plain": [
       "Index(['Victim's name', 'Victim's age', 'Victim's gender', 'Victim's race',\n",
       "       'URL of image of victim', 'Date of Incident (month/day/year)',\n",
       "       'Street Address of Incident', 'City', 'State', 'Zipcode', 'County',\n",
       "       'Agency responsible for death', 'ORI Agency Identifier (if available)',\n",
       "       'Cause of death',\n",
       "       'A brief description of the circumstances surrounding the death',\n",
       "       'Official disposition of death (justified or other)',\n",
       "       'Criminal Charges?',\n",
       "       'Link to news article or photo of official document',\n",
       "       'Symptoms of mental illness?', 'Armed/Unarmed Status',\n",
       "       'Alleged Weapon (Source: WaPo and Review of Cases Not Included in WaPo Database)',\n",
       "       'Alleged Threat Level (Source: WaPo)', 'Fleeing (Source: WaPo)',\n",
       "       'Body Camera (Source: WaPo)', 'WaPo ID (If included in WaPo database)',\n",
       "       'Off-Duty Killing?',\n",
       "       'Geography (via Trulia methodology based on zipcode population density: http://jedkolko.com/wp-content/uploads/2015/05/full-ZCTA-urban-suburban-rural-classification.xlsx )',\n",
       "       'MPV ID', 'Fatal Encounters ID'],\n",
       "      dtype='object')"
      ]
     },
     "execution_count": 5,
     "metadata": {},
     "output_type": "execute_result"
    }
   ],
   "source": [
    "df.columns"
   ]
  },
  {
   "cell_type": "code",
   "execution_count": 6,
   "metadata": {},
   "outputs": [],
   "source": [
    "df.rename(columns={'Victim\\'s name': 'Name', 'Victim\\'s age': 'Age', \"Victim\\'s gender\": \"Gender\",\n",
    "                   \"Victim\\'s race\": \"Race\",  'Date of Incident (month/day/year)': \"Date\", \n",
    "                   \"Agency responsible for death\" : \"Agency\", \"Cause of death\" : \"CoD\", \n",
    "                   \"Official disposition of death (justified or other)\" : \"deathDisposition\",\n",
    "                   \"Criminal Charges?\" : \"criminalCharge\", \"Symptoms of mental illness?\": \"sympMentalIll\",\n",
    "                  \"Armed/Unarmed Status\" : \"armedStatus\",\n",
    "                  \"Alleged Weapon (Source: WaPo and Review of Cases Not Included in WaPo Database)\" : \"allegedWeapon\",\n",
    "                  \"Alleged Threat Level (Source: WaPo)\": \"allegedThreat\", \"Fleeing (Source: WaPo)\": \"Fleeing\",\n",
    "                  \"Body Camera (Source: WaPo)\": \"bodyCam\", \"Off-Duty Killing?\": \"offDuty\"}, inplace=True)\n",
    "\n",
    "\n",
    "df = df.drop(columns=['URL of image of victim', 'Street Address of Incident', 'ORI Agency Identifier (if available)'\n",
    "                 ,'A brief description of the circumstances surrounding the death', 'Link to news article or photo of official document'\n",
    "                 ,'WaPo ID (If included in WaPo database)', 'Geography (via Trulia methodology based on zipcode population density: http://jedkolko.com/wp-content/uploads/2015/05/full-ZCTA-urban-suburban-rural-classification.xlsx )',\n",
    "                  'MPV ID', 'Fatal Encounters ID'])\n"
   ]
  },
  {
   "cell_type": "code",
   "execution_count": 7,
   "metadata": {},
   "outputs": [
    {
     "name": "stderr",
     "output_type": "stream",
     "text": [
      "<ipython-input-7-fb282a674539>:3: SettingWithCopyWarning: \n",
      "A value is trying to be set on a copy of a slice from a DataFrame\n",
      "\n",
      "See the caveats in the documentation: https://pandas.pydata.org/pandas-docs/stable/user_guide/indexing.html#returning-a-view-versus-a-copy\n",
      "  df['sympMentalIll'][i] = \"UI\"\n",
      "<ipython-input-7-fb282a674539>:5: SettingWithCopyWarning: \n",
      "A value is trying to be set on a copy of a slice from a DataFrame\n",
      "\n",
      "See the caveats in the documentation: https://pandas.pydata.org/pandas-docs/stable/user_guide/indexing.html#returning-a-view-versus-a-copy\n",
      "  df['sympMentalIll'][i] = \"Unknown\"\n",
      "<ipython-input-7-fb282a674539>:7: SettingWithCopyWarning: \n",
      "A value is trying to be set on a copy of a slice from a DataFrame\n",
      "\n",
      "See the caveats in the documentation: https://pandas.pydata.org/pandas-docs/stable/user_guide/indexing.html#returning-a-view-versus-a-copy\n",
      "  df['sympMentalIll'][i] = \"Unknown\"\n",
      "<ipython-input-7-fb282a674539>:9: SettingWithCopyWarning: \n",
      "A value is trying to be set on a copy of a slice from a DataFrame\n",
      "\n",
      "See the caveats in the documentation: https://pandas.pydata.org/pandas-docs/stable/user_guide/indexing.html#returning-a-view-versus-a-copy\n",
      "  df['sympMentalIll'][i] = \"Unknown\"\n"
     ]
    }
   ],
   "source": [
    "for i in range(len(df[\"sympMentalIll\"])):\n",
    "    if df['sympMentalIll'][i] == \"Drug or alcohol use\":\n",
    "        df['sympMentalIll'][i] = \"UI\"\n",
    "    if df['sympMentalIll'][i] == \"Unkown\":\n",
    "        df['sympMentalIll'][i] = \"Unknown\"\n",
    "    if df['sympMentalIll'][i] == \"Unknown \":\n",
    "        df['sympMentalIll'][i] = \"Unknown\"\n",
    "    if df['sympMentalIll'][i] == \"unknown\":\n",
    "        df['sympMentalIll'][i] = \"Unknown\""
   ]
  },
  {
   "cell_type": "code",
   "execution_count": 8,
   "metadata": {},
   "outputs": [],
   "source": [
    "df['sympMentalIll']= df['sympMentalIll'].astype(str)"
   ]
  },
  {
   "cell_type": "code",
   "execution_count": 9,
   "metadata": {},
   "outputs": [
    {
     "data": {
      "text/plain": [
       "array(['Female', 'Male', 'Unknown', 'Trans'], dtype=object)"
      ]
     },
     "execution_count": 9,
     "metadata": {},
     "output_type": "execute_result"
    }
   ],
   "source": [
    "df[\"Gender\"] = df[\"Gender\"].replace(\"Male \", \"Male\")\n",
    "df[\"Gender\"] = df[\"Gender\"].replace(\"Transgender\", \"Trans\")\n",
    "df['Gender'] = df['Gender'].replace(np.nan, \"Unknown\")\n",
    "df.Gender.unique()\n"
   ]
  },
  {
   "cell_type": "code",
   "execution_count": 10,
   "metadata": {},
   "outputs": [
    {
     "data": {
      "text/plain": [
       "<matplotlib.axes._subplots.AxesSubplot at 0x7fadd9772c70>"
      ]
     },
     "execution_count": 10,
     "metadata": {},
     "output_type": "execute_result"
    },
    {
     "data": {
      "image/png": "[encoded data removed]",
      "text/plain": [
       "<Figure size 432x288 with 1 Axes>"
      ]
     },
     "metadata": {
      "needs_background": "light"
     },
     "output_type": "display_data"
    }
   ],
   "source": [
    "sns.histplot(data=df, x=\"sympMentalIll\")"
   ]
  },
  {
   "cell_type": "code",
   "execution_count": 11,
   "metadata": {},
   "outputs": [],
   "source": [
    "race_List = ['White', 'Black', 'Other', 'Hispanic']\n",
    "gender_List = ['Male', 'Female']\n",
    "age_List = [16, 17, 18,19,20,21,22,23,24,25,26,27,28,29,30,31,32,33,34,35,36,37,38,39,40,41, 42,43,44, 45,46,47,48,49,50,51,52,53,54,55,56,57,58,59,60,61,62,63,64,65]"
   ]
  },
  {
   "cell_type": "code",
   "execution_count": 12,
   "metadata": {},
   "outputs": [],
   "source": [
    "race_df = pd.DataFrame(np.arange(24000).reshape(24000,1)).applymap(lambda x: np.random.choice(race_List, p=[0.48, 0.21, 0.10, 0.21]))\n",
    "gender_df = pd.DataFrame(np.arange(24000).reshape(24000,1)).applymap(lambda x: np.random.choice(gender_List, p=[0.49, 0.51]))\n",
    "age_df = pd.DataFrame(np.arange(24000).reshape(24000,1)).applymap(lambda x: np.random.choice(age_List, p=[0.035, .035, 0.0285, 0.0285, .0285,\n",
    "                                                                                                         0.0285, 0.0285, 0.0285, 0.0285, .015, \n",
    "                                                                                                         .015, .015, .015, .015, .015, .015, \n",
    "                                                                                                         .015, .015, .015, .015, .015, .015, \n",
    "                                                                                                         .015, .015, .015, .015, .015, .015, \n",
    "                                                                                                         .015, .013, .013, .013, .013, .013, \n",
    "                                                                                                         .013, .013, .013, .013, .013, .013, \n",
    "                                                                                                         .013, .013, .013, .013, .013, .013, \n",
    "                                                                                                         .013, .013, .013, .1705]))"
   ]
  },
  {
   "cell_type": "code",
   "execution_count": 13,
   "metadata": {},
   "outputs": [],
   "source": [
    "race_df.index.name = \"index\"\n",
    "race_df.columns = ['Race']\n",
    "gender_df.index.name = 'index'\n",
    "gender_df.columns = ['Gender']\n",
    "age_df.index.name = \"index\"\n",
    "age_df.columns = ['Age']"
   ]
  },
  {
   "cell_type": "code",
   "execution_count": 14,
   "metadata": {},
   "outputs": [],
   "source": [
    "df['Race'] = df['Race'].replace([\"Unknown race\", \"Pacific Islander\", \"Native American\", \"Asian\"], \"Other\")\n",
    "\n",
    "df['CoD'] = df['CoD'].replace(['Gunshot', 'Gunshot, Taser', 'Vehicle', 'Tasered',\n",
    "       'Physical Restraint', 'Taser', 'Chemical agent/Pepper spray',\n",
    "       'Beaten', 'Beaten/Bludgeoned with instrument', 'Other',\n",
    "       'Gunshot, Beanbag Gun', 'Gunshot, Police Dog',\n",
    "       'Gunshot, Bean Bag Gun', 'Gunshot, Pepper Spray', 'Bean bag',\n",
    "       'Gunshot, Taser, Baton', 'Gunshot, Taser, Beanbag Shotgun',\n",
    "       'Pepper Spray', 'Asphyxiated',\n",
    "       'Gunshot, Unspecified Less Lethal Weapon', 'Physical restraint',\n",
    "       'Taser, Baton', 'Bomb', 'Taser, Physical Restraint',\n",
    "       'Baton, Pepper Spray, Physical Restraint', 'Gunshot, Vehicle',\n",
    "       'Gunshot, Stabbed', 'Gunshot, Taser, Pepper spray',\n",
    "       'Taser, Pepper Spray, Beaten', 'Taser, Beaten',\n",
    "       'Taser, Pepper spray, beaten'], 0)"
   ]
  },
  {
   "cell_type": "code",
   "execution_count": null,
   "metadata": {},
   "outputs": [],
   "source": []
  },
  {
   "cell_type": "code",
   "execution_count": 15,
   "metadata": {},
   "outputs": [],
   "source": [
    "new_df = [race_df, gender_df, age_df]"
   ]
  },
  {
   "cell_type": "code",
   "execution_count": 16,
   "metadata": {},
   "outputs": [],
   "source": [
    "df_final = reduce(lambda left,right: pd.merge(left,right,on=\"index\"), new_df)"
   ]
  },
  {
   "cell_type": "code",
   "execution_count": 17,
   "metadata": {},
   "outputs": [],
   "source": [
    "test = df.append(df_final)"
   ]
  },
  {
   "cell_type": "code",
   "execution_count": 18,
   "metadata": {},
   "outputs": [
    {
     "data": {
      "text/html": [
       "<div>\n",
       "<style scoped>\n",
       "    .dataframe tbody tr th:only-of-type {\n",
       "        vertical-align: middle;\n",
       "    }\n",
       "\n",
       "    .dataframe tbody tr th {\n",
       "        vertical-align: top;\n",
       "    }\n",
       "\n",
       "    .dataframe thead th {\n",
       "        text-align: right;\n",
       "    }\n",
       "</style>\n",
       "<table border=\"1\" class=\"dataframe\">\n",
       "  <thead>\n",
       "    <tr style=\"text-align: right;\">\n",
       "      <th></th>\n",
       "      <th>Name</th>\n",
       "      <th>Age</th>\n",
       "      <th>Gender</th>\n",
       "      <th>Race</th>\n",
       "      <th>Date</th>\n",
       "      <th>City</th>\n",
       "      <th>State</th>\n",
       "      <th>Zipcode</th>\n",
       "      <th>County</th>\n",
       "      <th>Agency</th>\n",
       "      <th>CoD</th>\n",
       "      <th>deathDisposition</th>\n",
       "      <th>criminalCharge</th>\n",
       "      <th>sympMentalIll</th>\n",
       "      <th>armedStatus</th>\n",
       "      <th>allegedWeapon</th>\n",
       "      <th>allegedThreat</th>\n",
       "      <th>Fleeing</th>\n",
       "      <th>bodyCam</th>\n",
       "      <th>offDuty</th>\n",
       "    </tr>\n",
       "  </thead>\n",
       "  <tbody>\n",
       "    <tr>\n",
       "      <th>0</th>\n",
       "      <td>Name withheld by police</td>\n",
       "      <td>NaN</td>\n",
       "      <td>Female</td>\n",
       "      <td>Other</td>\n",
       "      <td>2021-01-26</td>\n",
       "      <td>Aurora</td>\n",
       "      <td>CO</td>\n",
       "      <td>80137.0</td>\n",
       "      <td>Adams</td>\n",
       "      <td>Adams County Sheriff's Office</td>\n",
       "      <td>0.0</td>\n",
       "      <td>Pending investigation</td>\n",
       "      <td>No known charges</td>\n",
       "      <td>No</td>\n",
       "      <td>Allegedly Armed</td>\n",
       "      <td>gun</td>\n",
       "      <td>other</td>\n",
       "      <td>not fleeing</td>\n",
       "      <td>NaN</td>\n",
       "      <td>NaN</td>\n",
       "    </tr>\n",
       "    <tr>\n",
       "      <th>1</th>\n",
       "      <td>John Eric Ostbye</td>\n",
       "      <td>50</td>\n",
       "      <td>Male</td>\n",
       "      <td>White</td>\n",
       "      <td>2021-01-25</td>\n",
       "      <td>Graham</td>\n",
       "      <td>WA</td>\n",
       "      <td>98338.0</td>\n",
       "      <td>Pierce</td>\n",
       "      <td>Pierce County Sheriff's Office</td>\n",
       "      <td>0.0</td>\n",
       "      <td>Pending investigation</td>\n",
       "      <td>No known charges</td>\n",
       "      <td>No</td>\n",
       "      <td>Allegedly Armed</td>\n",
       "      <td>knife</td>\n",
       "      <td>other</td>\n",
       "      <td>not fleeing</td>\n",
       "      <td>NaN</td>\n",
       "      <td>NaN</td>\n",
       "    </tr>\n",
       "    <tr>\n",
       "      <th>2</th>\n",
       "      <td>Tyree Kajawn Rogers</td>\n",
       "      <td>38</td>\n",
       "      <td>Male</td>\n",
       "      <td>Black</td>\n",
       "      <td>2021-01-24</td>\n",
       "      <td>Wichita Falls</td>\n",
       "      <td>TX</td>\n",
       "      <td>76305.0</td>\n",
       "      <td>Wichita Falls</td>\n",
       "      <td>Wichita County Sheriff's Office</td>\n",
       "      <td>0.0</td>\n",
       "      <td>Pending investigation</td>\n",
       "      <td>No known charges</td>\n",
       "      <td>No</td>\n",
       "      <td>Vehicle</td>\n",
       "      <td>vehicle</td>\n",
       "      <td>attack</td>\n",
       "      <td>car</td>\n",
       "      <td>no</td>\n",
       "      <td>NaN</td>\n",
       "    </tr>\n",
       "    <tr>\n",
       "      <th>3</th>\n",
       "      <td>Caleb McCree</td>\n",
       "      <td>43</td>\n",
       "      <td>Male</td>\n",
       "      <td>White</td>\n",
       "      <td>2021-01-24</td>\n",
       "      <td>Slidell</td>\n",
       "      <td>LA</td>\n",
       "      <td>70460.0</td>\n",
       "      <td>St. Tammany</td>\n",
       "      <td>Slidell Police Department, St. Tammany Parish ...</td>\n",
       "      <td>0.0</td>\n",
       "      <td>Pending investigation</td>\n",
       "      <td>No known charges</td>\n",
       "      <td>Yes</td>\n",
       "      <td>Allegedly Armed</td>\n",
       "      <td>box cutter</td>\n",
       "      <td>attack</td>\n",
       "      <td>NaN</td>\n",
       "      <td>no</td>\n",
       "      <td>NaN</td>\n",
       "    </tr>\n",
       "    <tr>\n",
       "      <th>4</th>\n",
       "      <td>Steven Verdone</td>\n",
       "      <td>NaN</td>\n",
       "      <td>Male</td>\n",
       "      <td>White</td>\n",
       "      <td>2021-01-22</td>\n",
       "      <td>Homosassa</td>\n",
       "      <td>FL</td>\n",
       "      <td>34446.0</td>\n",
       "      <td>Citrus</td>\n",
       "      <td>Citrus County Sheriff's Office</td>\n",
       "      <td>0.0</td>\n",
       "      <td>Pending investigation</td>\n",
       "      <td>No known charges</td>\n",
       "      <td>Unknown</td>\n",
       "      <td>Allegedly Armed</td>\n",
       "      <td>knife</td>\n",
       "      <td>other</td>\n",
       "      <td>not fleeing</td>\n",
       "      <td>no</td>\n",
       "      <td>NaN</td>\n",
       "    </tr>\n",
       "    <tr>\n",
       "      <th>...</th>\n",
       "      <td>...</td>\n",
       "      <td>...</td>\n",
       "      <td>...</td>\n",
       "      <td>...</td>\n",
       "      <td>...</td>\n",
       "      <td>...</td>\n",
       "      <td>...</td>\n",
       "      <td>...</td>\n",
       "      <td>...</td>\n",
       "      <td>...</td>\n",
       "      <td>...</td>\n",
       "      <td>...</td>\n",
       "      <td>...</td>\n",
       "      <td>...</td>\n",
       "      <td>...</td>\n",
       "      <td>...</td>\n",
       "      <td>...</td>\n",
       "      <td>...</td>\n",
       "      <td>...</td>\n",
       "      <td>...</td>\n",
       "    </tr>\n",
       "    <tr>\n",
       "      <th>23995</th>\n",
       "      <td>NaN</td>\n",
       "      <td>47</td>\n",
       "      <td>Male</td>\n",
       "      <td>White</td>\n",
       "      <td>NaT</td>\n",
       "      <td>NaN</td>\n",
       "      <td>NaN</td>\n",
       "      <td>NaN</td>\n",
       "      <td>NaN</td>\n",
       "      <td>NaN</td>\n",
       "      <td>NaN</td>\n",
       "      <td>NaN</td>\n",
       "      <td>NaN</td>\n",
       "      <td>NaN</td>\n",
       "      <td>NaN</td>\n",
       "      <td>NaN</td>\n",
       "      <td>NaN</td>\n",
       "      <td>NaN</td>\n",
       "      <td>NaN</td>\n",
       "      <td>NaN</td>\n",
       "    </tr>\n",
       "    <tr>\n",
       "      <th>23996</th>\n",
       "      <td>NaN</td>\n",
       "      <td>49</td>\n",
       "      <td>Female</td>\n",
       "      <td>White</td>\n",
       "      <td>NaT</td>\n",
       "      <td>NaN</td>\n",
       "      <td>NaN</td>\n",
       "      <td>NaN</td>\n",
       "      <td>NaN</td>\n",
       "      <td>NaN</td>\n",
       "      <td>NaN</td>\n",
       "      <td>NaN</td>\n",
       "      <td>NaN</td>\n",
       "      <td>NaN</td>\n",
       "      <td>NaN</td>\n",
       "      <td>NaN</td>\n",
       "      <td>NaN</td>\n",
       "      <td>NaN</td>\n",
       "      <td>NaN</td>\n",
       "      <td>NaN</td>\n",
       "    </tr>\n",
       "    <tr>\n",
       "      <th>23997</th>\n",
       "      <td>NaN</td>\n",
       "      <td>44</td>\n",
       "      <td>Male</td>\n",
       "      <td>White</td>\n",
       "      <td>NaT</td>\n",
       "      <td>NaN</td>\n",
       "      <td>NaN</td>\n",
       "      <td>NaN</td>\n",
       "      <td>NaN</td>\n",
       "      <td>NaN</td>\n",
       "      <td>NaN</td>\n",
       "      <td>NaN</td>\n",
       "      <td>NaN</td>\n",
       "      <td>NaN</td>\n",
       "      <td>NaN</td>\n",
       "      <td>NaN</td>\n",
       "      <td>NaN</td>\n",
       "      <td>NaN</td>\n",
       "      <td>NaN</td>\n",
       "      <td>NaN</td>\n",
       "    </tr>\n",
       "    <tr>\n",
       "      <th>23998</th>\n",
       "      <td>NaN</td>\n",
       "      <td>65</td>\n",
       "      <td>Male</td>\n",
       "      <td>Black</td>\n",
       "      <td>NaT</td>\n",
       "      <td>NaN</td>\n",
       "      <td>NaN</td>\n",
       "      <td>NaN</td>\n",
       "      <td>NaN</td>\n",
       "      <td>NaN</td>\n",
       "      <td>NaN</td>\n",
       "      <td>NaN</td>\n",
       "      <td>NaN</td>\n",
       "      <td>NaN</td>\n",
       "      <td>NaN</td>\n",
       "      <td>NaN</td>\n",
       "      <td>NaN</td>\n",
       "      <td>NaN</td>\n",
       "      <td>NaN</td>\n",
       "      <td>NaN</td>\n",
       "    </tr>\n",
       "    <tr>\n",
       "      <th>23999</th>\n",
       "      <td>NaN</td>\n",
       "      <td>65</td>\n",
       "      <td>Female</td>\n",
       "      <td>White</td>\n",
       "      <td>NaT</td>\n",
       "      <td>NaN</td>\n",
       "      <td>NaN</td>\n",
       "      <td>NaN</td>\n",
       "      <td>NaN</td>\n",
       "      <td>NaN</td>\n",
       "      <td>NaN</td>\n",
       "      <td>NaN</td>\n",
       "      <td>NaN</td>\n",
       "      <td>NaN</td>\n",
       "      <td>NaN</td>\n",
       "      <td>NaN</td>\n",
       "      <td>NaN</td>\n",
       "      <td>NaN</td>\n",
       "      <td>NaN</td>\n",
       "      <td>NaN</td>\n",
       "    </tr>\n",
       "  </tbody>\n",
       "</table>\n",
       "<p>32837 rows × 20 columns</p>\n",
       "</div>"
      ],
      "text/plain": [
       "                          Name  Age  Gender   Race       Date           City  \\\n",
       "0      Name withheld by police  NaN  Female  Other 2021-01-26         Aurora   \n",
       "1             John Eric Ostbye   50    Male  White 2021-01-25         Graham   \n",
       "2          Tyree Kajawn Rogers   38    Male  Black 2021-01-24  Wichita Falls   \n",
       "3                 Caleb McCree   43    Male  White 2021-01-24        Slidell   \n",
       "4               Steven Verdone  NaN    Male  White 2021-01-22      Homosassa   \n",
       "...                        ...  ...     ...    ...        ...            ...   \n",
       "23995                      NaN   47    Male  White        NaT            NaN   \n",
       "23996                      NaN   49  Female  White        NaT            NaN   \n",
       "23997                      NaN   44    Male  White        NaT            NaN   \n",
       "23998                      NaN   65    Male  Black        NaT            NaN   \n",
       "23999                      NaN   65  Female  White        NaT            NaN   \n",
       "\n",
       "      State  Zipcode         County  \\\n",
       "0        CO  80137.0          Adams   \n",
       "1        WA  98338.0         Pierce   \n",
       "2        TX  76305.0  Wichita Falls   \n",
       "3        LA  70460.0    St. Tammany   \n",
       "4        FL  34446.0         Citrus   \n",
       "...     ...      ...            ...   \n",
       "23995   NaN      NaN            NaN   \n",
       "23996   NaN      NaN            NaN   \n",
       "23997   NaN      NaN            NaN   \n",
       "23998   NaN      NaN            NaN   \n",
       "23999   NaN      NaN            NaN   \n",
       "\n",
       "                                                  Agency  CoD  \\\n",
       "0                          Adams County Sheriff's Office  0.0   \n",
       "1                         Pierce County Sheriff's Office  0.0   \n",
       "2                        Wichita County Sheriff's Office  0.0   \n",
       "3      Slidell Police Department, St. Tammany Parish ...  0.0   \n",
       "4                         Citrus County Sheriff's Office  0.0   \n",
       "...                                                  ...  ...   \n",
       "23995                                                NaN  NaN   \n",
       "23996                                                NaN  NaN   \n",
       "23997                                                NaN  NaN   \n",
       "23998                                                NaN  NaN   \n",
       "23999                                                NaN  NaN   \n",
       "\n",
       "            deathDisposition    criminalCharge sympMentalIll      armedStatus  \\\n",
       "0      Pending investigation  No known charges            No  Allegedly Armed   \n",
       "1      Pending investigation  No known charges            No  Allegedly Armed   \n",
       "2      Pending investigation  No known charges            No          Vehicle   \n",
       "3      Pending investigation  No known charges           Yes  Allegedly Armed   \n",
       "4      Pending investigation  No known charges       Unknown  Allegedly Armed   \n",
       "...                      ...               ...           ...              ...   \n",
       "23995                    NaN               NaN           NaN              NaN   \n",
       "23996                    NaN               NaN           NaN              NaN   \n",
       "23997                    NaN               NaN           NaN              NaN   \n",
       "23998                    NaN               NaN           NaN              NaN   \n",
       "23999                    NaN               NaN           NaN              NaN   \n",
       "\n",
       "      allegedWeapon allegedThreat      Fleeing bodyCam offDuty  \n",
       "0               gun         other  not fleeing     NaN     NaN  \n",
       "1             knife         other  not fleeing     NaN     NaN  \n",
       "2           vehicle        attack          car      no     NaN  \n",
       "3        box cutter        attack          NaN      no     NaN  \n",
       "4             knife         other  not fleeing      no     NaN  \n",
       "...             ...           ...          ...     ...     ...  \n",
       "23995           NaN           NaN          NaN     NaN     NaN  \n",
       "23996           NaN           NaN          NaN     NaN     NaN  \n",
       "23997           NaN           NaN          NaN     NaN     NaN  \n",
       "23998           NaN           NaN          NaN     NaN     NaN  \n",
       "23999           NaN           NaN          NaN     NaN     NaN  \n",
       "\n",
       "[32837 rows x 20 columns]"
      ]
     },
     "execution_count": 18,
     "metadata": {},
     "output_type": "execute_result"
    }
   ],
   "source": [
    "test"
   ]
  },
  {
   "cell_type": "code",
   "execution_count": 19,
   "metadata": {},
   "outputs": [],
   "source": [
    "test['CoD'] = test['CoD'].replace(np.nan, 1)"
   ]
  },
  {
   "cell_type": "code",
   "execution_count": 20,
   "metadata": {},
   "outputs": [],
   "source": [
    "test['num_race'] = test[\"Race\"]\n",
    "test['num_race'] = test['num_race'].replace('White', 0)\n",
    "test['num_race'] = test['num_race'].replace('Black', 1)\n",
    "test['num_race'] = test['num_race'].replace('Hispanic', 2)\n",
    "test['num_race'] = test['num_race'].replace('Other', 3)"
   ]
  },
  {
   "cell_type": "code",
   "execution_count": 21,
   "metadata": {},
   "outputs": [],
   "source": [
    "test['num_gender'] = test['Gender']\n",
    "test['num_gender'] = test['num_gender'].replace('Male', 0)\n",
    "test['num_gender'] = test['num_gender'].replace('Female', 1)\n",
    "test['num_gender'] = test['num_gender'].replace('Trans', 2)\n",
    "test['num_gender'] = test['num_gender'].replace('Unknown', 3)"
   ]
  },
  {
   "cell_type": "code",
   "execution_count": 64,
   "metadata": {},
   "outputs": [
    {
     "name": "stderr",
     "output_type": "stream",
     "text": [
      "<ipython-input-64-fab20f52d421>:1: SettingWithCopyWarning: \n",
      "A value is trying to be set on a copy of a slice from a DataFrame.\n",
      "Try using .loc[row_indexer,col_indexer] = value instead\n",
      "\n",
      "See the caveats in the documentation: https://pandas.pydata.org/pandas-docs/stable/user_guide/indexing.html#returning-a-view-versus-a-copy\n",
      "  test['num_sympMentalIll'] = test['sympMentalIll']\n",
      "<ipython-input-64-fab20f52d421>:2: SettingWithCopyWarning: \n",
      "A value is trying to be set on a copy of a slice from a DataFrame.\n",
      "Try using .loc[row_indexer,col_indexer] = value instead\n",
      "\n",
      "See the caveats in the documentation: https://pandas.pydata.org/pandas-docs/stable/user_guide/indexing.html#returning-a-view-versus-a-copy\n",
      "  test['num_sympMentalIll'] = test['num_sympMentalIll'].replace('Yes', 1)\n",
      "<ipython-input-64-fab20f52d421>:3: SettingWithCopyWarning: \n",
      "A value is trying to be set on a copy of a slice from a DataFrame.\n",
      "Try using .loc[row_indexer,col_indexer] = value instead\n",
      "\n",
      "See the caveats in the documentation: https://pandas.pydata.org/pandas-docs/stable/user_guide/indexing.html#returning-a-view-versus-a-copy\n",
      "  test['num_sympMentalIll'] = test['num_sympMentalIll'].replace('No', 0)\n",
      "<ipython-input-64-fab20f52d421>:4: SettingWithCopyWarning: \n",
      "A value is trying to be set on a copy of a slice from a DataFrame.\n",
      "Try using .loc[row_indexer,col_indexer] = value instead\n",
      "\n",
      "See the caveats in the documentation: https://pandas.pydata.org/pandas-docs/stable/user_guide/indexing.html#returning-a-view-versus-a-copy\n",
      "  test['num_sympMentalIll'] = test['num_sympMentalIll'].replace('Unknown', 2)\n",
      "<ipython-input-64-fab20f52d421>:5: SettingWithCopyWarning: \n",
      "A value is trying to be set on a copy of a slice from a DataFrame.\n",
      "Try using .loc[row_indexer,col_indexer] = value instead\n",
      "\n",
      "See the caveats in the documentation: https://pandas.pydata.org/pandas-docs/stable/user_guide/indexing.html#returning-a-view-versus-a-copy\n",
      "  test['num_sympMentalIll'] = test['num_sympMentalIll'].replace('UI', 3)\n"
     ]
    }
   ],
   "source": [
    "test['num_sympMentalIll'] = test['sympMentalIll']\n",
    "test['num_sympMentalIll'] = test['num_sympMentalIll'].replace('Yes', 1)\n",
    "test['num_sympMentalIll'] = test['num_sympMentalIll'].replace('No', 0)\n",
    "test['num_sympMentalIll'] = test['num_sympMentalIll'].replace('Unknown', 2)\n",
    "test['num_sympMentalIll'] = test['num_sympMentalIll'].replace('UI', 3)"
   ]
  },
  {
   "cell_type": "code",
   "execution_count": 22,
   "metadata": {},
   "outputs": [
    {
     "data": {
      "text/plain": [
       "array([50, 38, 43, 33, 27, 34, 21, 19, 55, 32, 46, 56, 25, 24, 48, 65, 26,\n",
       "       36, 30, 23, 54, 31, 45, 28, 37, 49, 52, 91, 18, 47, 40, 35, 20, 59,\n",
       "       39, 63, 29, 41, 85, 42, 60, 79, 22, 44, 70, 62, 74, 15, 75, 17, 66,\n",
       "       16, 61, 58, 64, 53, 57, 51, 88, 67, 73, 68, 81, 69, 82, 83, 87, 76,\n",
       "       77, 80, 14, 71, 6, 78, 72, 84, 89, 1, 13, 86, 10, 12, 95, 5, 93, 7,\n",
       "       107], dtype=object)"
      ]
     },
     "execution_count": 22,
     "metadata": {},
     "output_type": "execute_result"
    }
   ],
   "source": [
    "test['Age'] = test['Age'].replace('40s', None)\n",
    "test['Age'] = test['Age'].replace('Unknown', None)\n",
    "test = test.dropna(subset=['Age'])\n",
    "test.Age.unique()\n"
   ]
  },
  {
   "cell_type": "code",
   "execution_count": 113,
   "metadata": {},
   "outputs": [
    {
     "data": {
      "text/html": [
       "<div>\n",
       "<style scoped>\n",
       "    .dataframe tbody tr th:only-of-type {\n",
       "        vertical-align: middle;\n",
       "    }\n",
       "\n",
       "    .dataframe tbody tr th {\n",
       "        vertical-align: top;\n",
       "    }\n",
       "\n",
       "    .dataframe thead th {\n",
       "        text-align: right;\n",
       "    }\n",
       "</style>\n",
       "<table border=\"1\" class=\"dataframe\">\n",
       "  <thead>\n",
       "    <tr style=\"text-align: right;\">\n",
       "      <th></th>\n",
       "      <th>Name</th>\n",
       "      <th>Age</th>\n",
       "      <th>Gender</th>\n",
       "      <th>Race</th>\n",
       "      <th>Date</th>\n",
       "      <th>City</th>\n",
       "      <th>State</th>\n",
       "      <th>Zipcode</th>\n",
       "      <th>County</th>\n",
       "      <th>Agency</th>\n",
       "      <th>...</th>\n",
       "      <th>allegedWeapon</th>\n",
       "      <th>allegedThreat</th>\n",
       "      <th>Fleeing</th>\n",
       "      <th>bodyCam</th>\n",
       "      <th>offDuty</th>\n",
       "      <th>num_race</th>\n",
       "      <th>num_gender</th>\n",
       "      <th>predictions</th>\n",
       "      <th>num_sympMentalIll</th>\n",
       "      <th>norm_Age</th>\n",
       "    </tr>\n",
       "  </thead>\n",
       "  <tbody>\n",
       "    <tr>\n",
       "      <th>1</th>\n",
       "      <td>John Eric Ostbye</td>\n",
       "      <td>50</td>\n",
       "      <td>Male</td>\n",
       "      <td>White</td>\n",
       "      <td>2021-01-25</td>\n",
       "      <td>Graham</td>\n",
       "      <td>WA</td>\n",
       "      <td>98338.0</td>\n",
       "      <td>Pierce</td>\n",
       "      <td>Pierce County Sheriff's Office</td>\n",
       "      <td>...</td>\n",
       "      <td>knife</td>\n",
       "      <td>other</td>\n",
       "      <td>not fleeing</td>\n",
       "      <td>NaN</td>\n",
       "      <td>NaN</td>\n",
       "      <td>0</td>\n",
       "      <td>0</td>\n",
       "      <td>1.0</td>\n",
       "      <td>0</td>\n",
       "      <td>0.462264</td>\n",
       "    </tr>\n",
       "    <tr>\n",
       "      <th>2</th>\n",
       "      <td>Tyree Kajawn Rogers</td>\n",
       "      <td>38</td>\n",
       "      <td>Male</td>\n",
       "      <td>Black</td>\n",
       "      <td>2021-01-24</td>\n",
       "      <td>Wichita Falls</td>\n",
       "      <td>TX</td>\n",
       "      <td>76305.0</td>\n",
       "      <td>Wichita Falls</td>\n",
       "      <td>Wichita County Sheriff's Office</td>\n",
       "      <td>...</td>\n",
       "      <td>vehicle</td>\n",
       "      <td>attack</td>\n",
       "      <td>car</td>\n",
       "      <td>no</td>\n",
       "      <td>NaN</td>\n",
       "      <td>1</td>\n",
       "      <td>0</td>\n",
       "      <td>1.0</td>\n",
       "      <td>0</td>\n",
       "      <td>0.349057</td>\n",
       "    </tr>\n",
       "    <tr>\n",
       "      <th>3</th>\n",
       "      <td>Caleb McCree</td>\n",
       "      <td>43</td>\n",
       "      <td>Male</td>\n",
       "      <td>White</td>\n",
       "      <td>2021-01-24</td>\n",
       "      <td>Slidell</td>\n",
       "      <td>LA</td>\n",
       "      <td>70460.0</td>\n",
       "      <td>St. Tammany</td>\n",
       "      <td>Slidell Police Department, St. Tammany Parish ...</td>\n",
       "      <td>...</td>\n",
       "      <td>box cutter</td>\n",
       "      <td>attack</td>\n",
       "      <td>NaN</td>\n",
       "      <td>no</td>\n",
       "      <td>NaN</td>\n",
       "      <td>0</td>\n",
       "      <td>0</td>\n",
       "      <td>0.0</td>\n",
       "      <td>1</td>\n",
       "      <td>0.396226</td>\n",
       "    </tr>\n",
       "    <tr>\n",
       "      <th>5</th>\n",
       "      <td>Ryan Daniel Stallings</td>\n",
       "      <td>33</td>\n",
       "      <td>Male</td>\n",
       "      <td>White</td>\n",
       "      <td>2021-01-21</td>\n",
       "      <td>College Station</td>\n",
       "      <td>TX</td>\n",
       "      <td>77840.0</td>\n",
       "      <td>Brazos</td>\n",
       "      <td>College Station Police Department</td>\n",
       "      <td>...</td>\n",
       "      <td>gun</td>\n",
       "      <td>other</td>\n",
       "      <td>not fleeing</td>\n",
       "      <td>no</td>\n",
       "      <td>NaN</td>\n",
       "      <td>0</td>\n",
       "      <td>0</td>\n",
       "      <td>1.0</td>\n",
       "      <td>0</td>\n",
       "      <td>0.301887</td>\n",
       "    </tr>\n",
       "    <tr>\n",
       "      <th>7</th>\n",
       "      <td>David Tovar Jr.</td>\n",
       "      <td>27</td>\n",
       "      <td>Male</td>\n",
       "      <td>Hispanic</td>\n",
       "      <td>2021-01-21</td>\n",
       "      <td>San Jose</td>\n",
       "      <td>CA</td>\n",
       "      <td>95127.0</td>\n",
       "      <td>Santa Clara</td>\n",
       "      <td>San Jose Police Department</td>\n",
       "      <td>...</td>\n",
       "      <td>undetermined</td>\n",
       "      <td>other</td>\n",
       "      <td>NaN</td>\n",
       "      <td>no</td>\n",
       "      <td>NaN</td>\n",
       "      <td>2</td>\n",
       "      <td>0</td>\n",
       "      <td>1.0</td>\n",
       "      <td>0</td>\n",
       "      <td>0.245283</td>\n",
       "    </tr>\n",
       "    <tr>\n",
       "      <th>...</th>\n",
       "      <td>...</td>\n",
       "      <td>...</td>\n",
       "      <td>...</td>\n",
       "      <td>...</td>\n",
       "      <td>...</td>\n",
       "      <td>...</td>\n",
       "      <td>...</td>\n",
       "      <td>...</td>\n",
       "      <td>...</td>\n",
       "      <td>...</td>\n",
       "      <td>...</td>\n",
       "      <td>...</td>\n",
       "      <td>...</td>\n",
       "      <td>...</td>\n",
       "      <td>...</td>\n",
       "      <td>...</td>\n",
       "      <td>...</td>\n",
       "      <td>...</td>\n",
       "      <td>...</td>\n",
       "      <td>...</td>\n",
       "      <td>...</td>\n",
       "    </tr>\n",
       "    <tr>\n",
       "      <th>23995</th>\n",
       "      <td>NaN</td>\n",
       "      <td>47</td>\n",
       "      <td>Male</td>\n",
       "      <td>White</td>\n",
       "      <td>NaT</td>\n",
       "      <td>NaN</td>\n",
       "      <td>NaN</td>\n",
       "      <td>NaN</td>\n",
       "      <td>NaN</td>\n",
       "      <td>NaN</td>\n",
       "      <td>...</td>\n",
       "      <td>NaN</td>\n",
       "      <td>NaN</td>\n",
       "      <td>NaN</td>\n",
       "      <td>NaN</td>\n",
       "      <td>NaN</td>\n",
       "      <td>0</td>\n",
       "      <td>0</td>\n",
       "      <td>1.0</td>\n",
       "      <td>NaN</td>\n",
       "      <td>0.433962</td>\n",
       "    </tr>\n",
       "    <tr>\n",
       "      <th>23996</th>\n",
       "      <td>NaN</td>\n",
       "      <td>49</td>\n",
       "      <td>Female</td>\n",
       "      <td>White</td>\n",
       "      <td>NaT</td>\n",
       "      <td>NaN</td>\n",
       "      <td>NaN</td>\n",
       "      <td>NaN</td>\n",
       "      <td>NaN</td>\n",
       "      <td>NaN</td>\n",
       "      <td>...</td>\n",
       "      <td>NaN</td>\n",
       "      <td>NaN</td>\n",
       "      <td>NaN</td>\n",
       "      <td>NaN</td>\n",
       "      <td>NaN</td>\n",
       "      <td>0</td>\n",
       "      <td>1</td>\n",
       "      <td>1.0</td>\n",
       "      <td>NaN</td>\n",
       "      <td>0.452830</td>\n",
       "    </tr>\n",
       "    <tr>\n",
       "      <th>23997</th>\n",
       "      <td>NaN</td>\n",
       "      <td>44</td>\n",
       "      <td>Male</td>\n",
       "      <td>White</td>\n",
       "      <td>NaT</td>\n",
       "      <td>NaN</td>\n",
       "      <td>NaN</td>\n",
       "      <td>NaN</td>\n",
       "      <td>NaN</td>\n",
       "      <td>NaN</td>\n",
       "      <td>...</td>\n",
       "      <td>NaN</td>\n",
       "      <td>NaN</td>\n",
       "      <td>NaN</td>\n",
       "      <td>NaN</td>\n",
       "      <td>NaN</td>\n",
       "      <td>0</td>\n",
       "      <td>0</td>\n",
       "      <td>1.0</td>\n",
       "      <td>NaN</td>\n",
       "      <td>0.405660</td>\n",
       "    </tr>\n",
       "    <tr>\n",
       "      <th>23998</th>\n",
       "      <td>NaN</td>\n",
       "      <td>65</td>\n",
       "      <td>Male</td>\n",
       "      <td>Black</td>\n",
       "      <td>NaT</td>\n",
       "      <td>NaN</td>\n",
       "      <td>NaN</td>\n",
       "      <td>NaN</td>\n",
       "      <td>NaN</td>\n",
       "      <td>NaN</td>\n",
       "      <td>...</td>\n",
       "      <td>NaN</td>\n",
       "      <td>NaN</td>\n",
       "      <td>NaN</td>\n",
       "      <td>NaN</td>\n",
       "      <td>NaN</td>\n",
       "      <td>1</td>\n",
       "      <td>0</td>\n",
       "      <td>1.0</td>\n",
       "      <td>NaN</td>\n",
       "      <td>0.603774</td>\n",
       "    </tr>\n",
       "    <tr>\n",
       "      <th>23999</th>\n",
       "      <td>NaN</td>\n",
       "      <td>65</td>\n",
       "      <td>Female</td>\n",
       "      <td>White</td>\n",
       "      <td>NaT</td>\n",
       "      <td>NaN</td>\n",
       "      <td>NaN</td>\n",
       "      <td>NaN</td>\n",
       "      <td>NaN</td>\n",
       "      <td>NaN</td>\n",
       "      <td>...</td>\n",
       "      <td>NaN</td>\n",
       "      <td>NaN</td>\n",
       "      <td>NaN</td>\n",
       "      <td>NaN</td>\n",
       "      <td>NaN</td>\n",
       "      <td>0</td>\n",
       "      <td>1</td>\n",
       "      <td>1.0</td>\n",
       "      <td>NaN</td>\n",
       "      <td>0.603774</td>\n",
       "    </tr>\n",
       "  </tbody>\n",
       "</table>\n",
       "<p>32817 rows × 25 columns</p>\n",
       "</div>"
      ],
      "text/plain": [
       "                        Name Age  Gender      Race       Date  \\\n",
       "1           John Eric Ostbye  50    Male     White 2021-01-25   \n",
       "2        Tyree Kajawn Rogers  38    Male     Black 2021-01-24   \n",
       "3               Caleb McCree  43    Male     White 2021-01-24   \n",
       "5      Ryan Daniel Stallings  33    Male     White 2021-01-21   \n",
       "7            David Tovar Jr.  27    Male  Hispanic 2021-01-21   \n",
       "...                      ...  ..     ...       ...        ...   \n",
       "23995                    NaN  47    Male     White        NaT   \n",
       "23996                    NaN  49  Female     White        NaT   \n",
       "23997                    NaN  44    Male     White        NaT   \n",
       "23998                    NaN  65    Male     Black        NaT   \n",
       "23999                    NaN  65  Female     White        NaT   \n",
       "\n",
       "                  City State  Zipcode         County  \\\n",
       "1               Graham    WA  98338.0         Pierce   \n",
       "2        Wichita Falls    TX  76305.0  Wichita Falls   \n",
       "3              Slidell    LA  70460.0    St. Tammany   \n",
       "5      College Station    TX  77840.0         Brazos   \n",
       "7             San Jose    CA  95127.0    Santa Clara   \n",
       "...                ...   ...      ...            ...   \n",
       "23995              NaN   NaN      NaN            NaN   \n",
       "23996              NaN   NaN      NaN            NaN   \n",
       "23997              NaN   NaN      NaN            NaN   \n",
       "23998              NaN   NaN      NaN            NaN   \n",
       "23999              NaN   NaN      NaN            NaN   \n",
       "\n",
       "                                                  Agency  ...  allegedWeapon  \\\n",
       "1                         Pierce County Sheriff's Office  ...          knife   \n",
       "2                        Wichita County Sheriff's Office  ...        vehicle   \n",
       "3      Slidell Police Department, St. Tammany Parish ...  ...     box cutter   \n",
       "5                      College Station Police Department  ...            gun   \n",
       "7                             San Jose Police Department  ...   undetermined   \n",
       "...                                                  ...  ...            ...   \n",
       "23995                                                NaN  ...            NaN   \n",
       "23996                                                NaN  ...            NaN   \n",
       "23997                                                NaN  ...            NaN   \n",
       "23998                                                NaN  ...            NaN   \n",
       "23999                                                NaN  ...            NaN   \n",
       "\n",
       "      allegedThreat      Fleeing bodyCam offDuty num_race num_gender  \\\n",
       "1             other  not fleeing     NaN     NaN        0          0   \n",
       "2            attack          car      no     NaN        1          0   \n",
       "3            attack          NaN      no     NaN        0          0   \n",
       "5             other  not fleeing      no     NaN        0          0   \n",
       "7             other          NaN      no     NaN        2          0   \n",
       "...             ...          ...     ...     ...      ...        ...   \n",
       "23995           NaN          NaN     NaN     NaN        0          0   \n",
       "23996           NaN          NaN     NaN     NaN        0          1   \n",
       "23997           NaN          NaN     NaN     NaN        0          0   \n",
       "23998           NaN          NaN     NaN     NaN        1          0   \n",
       "23999           NaN          NaN     NaN     NaN        0          1   \n",
       "\n",
       "      predictions num_sympMentalIll  norm_Age  \n",
       "1             1.0                 0  0.462264  \n",
       "2             1.0                 0  0.349057  \n",
       "3             0.0                 1  0.396226  \n",
       "5             1.0                 0  0.301887  \n",
       "7             1.0                 0  0.245283  \n",
       "...           ...               ...       ...  \n",
       "23995         1.0               NaN  0.433962  \n",
       "23996         1.0               NaN  0.452830  \n",
       "23997         1.0               NaN  0.405660  \n",
       "23998         1.0               NaN  0.603774  \n",
       "23999         1.0               NaN  0.603774  \n",
       "\n",
       "[32817 rows x 25 columns]"
      ]
     },
     "execution_count": 113,
     "metadata": {},
     "output_type": "execute_result"
    }
   ],
   "source": [
    "test"
   ]
  },
  {
   "cell_type": "code",
   "execution_count": 115,
   "metadata": {},
   "outputs": [
    {
     "data": {
      "text/plain": [
       "0.36672117132114695"
      ]
     },
     "execution_count": 115,
     "metadata": {},
     "output_type": "execute_result"
    }
   ],
   "source": [
    "np.mean(test.norm_Age)"
   ]
  },
  {
   "cell_type": "code",
   "execution_count": 94,
   "metadata": {},
   "outputs": [
    {
     "name": "stderr",
     "output_type": "stream",
     "text": [
      "<ipython-input-94-95882b9e6839>:5: SettingWithCopyWarning: \n",
      "A value is trying to be set on a copy of a slice from a DataFrame.\n",
      "Try using .loc[row_indexer,col_indexer] = value instead\n",
      "\n",
      "See the caveats in the documentation: https://pandas.pydata.org/pandas-docs/stable/user_guide/indexing.html#returning-a-view-versus-a-copy\n",
      "  test['norm_Age'] = x_scaled\n"
     ]
    }
   ],
   "source": [
    "age_column = test['Age'].values\n",
    "min_max_scaler = preprocessing.MinMaxScaler()\n",
    "age_column = age_column.reshape(-1, 1)\n",
    "x_scaled = min_max_scaler.fit_transform(age_column)\n",
    "test['norm_Age'] = x_scaled"
   ]
  },
  {
   "cell_type": "code",
   "execution_count": 96,
   "metadata": {},
   "outputs": [],
   "source": [
    "test.to_csv(r'/Users/noahstein/Documents/DA401/df.csv', index = False)"
   ]
  },
  {
   "cell_type": "code",
   "execution_count": 75,
   "metadata": {},
   "outputs": [],
   "source": [
    "selected = test[['num_race','num_gender', 'Age']].values\n",
    "y = test[\"CoD\"].values"
   ]
  },
  {
   "cell_type": "code",
   "execution_count": 122,
   "metadata": {},
   "outputs": [],
   "source": [
    "feature_cols = ['num_race','num_gender', 'Age']\n",
    "X = test[feature_cols].values\n",
    "y = test[\"CoD\"].values\n",
    "\n",
    "X_train, X_test, y_train, y_test = train_test_split(X, y, random_state=0)"
   ]
  },
  {
   "cell_type": "code",
   "execution_count": 123,
   "metadata": {},
   "outputs": [],
   "source": [
    "clf = LogisticRegression(random_state=350)\n",
    "clf_fit = clf.fit(X_train, y_train)\n",
    "clf_fit.predict_proba(X_train)\n",
    "y_pred3 = clf_fit.predict(X_test)"
   ]
  },
  {
   "cell_type": "code",
   "execution_count": 116,
   "metadata": {},
   "outputs": [
    {
     "data": {
      "text/plain": [
       "array([1., 1., 1., ..., 1., 0., 1.])"
      ]
     },
     "execution_count": 116,
     "metadata": {},
     "output_type": "execute_result"
    }
   ],
   "source": [
    "y_pred3"
   ]
  },
  {
   "cell_type": "code",
   "execution_count": 124,
   "metadata": {},
   "outputs": [
    {
     "name": "stdout",
     "output_type": "stream",
     "text": [
      "R squared: -0.4459576804019054\n"
     ]
    }
   ],
   "source": [
    "print(\"R squared:\" ,metrics.r2_score(y_test, y_pred3))"
   ]
  },
  {
   "cell_type": "code",
   "execution_count": 100,
   "metadata": {},
   "outputs": [
    {
     "data": {
      "text/plain": [
       "(array([    0,     1,     2, ..., 24608, 24609, 24611]),)"
      ]
     },
     "execution_count": 100,
     "metadata": {},
     "output_type": "execute_result"
    }
   ],
   "source": [
    "(np.where(y_pred3 == 1))"
   ]
  },
  {
   "cell_type": "code",
   "execution_count": 101,
   "metadata": {},
   "outputs": [
    {
     "name": "stderr",
     "output_type": "stream",
     "text": [
      "<ipython-input-101-4eea510c2bbd>:1: SettingWithCopyWarning: \n",
      "A value is trying to be set on a copy of a slice from a DataFrame.\n",
      "Try using .loc[row_indexer,col_indexer] = value instead\n",
      "\n",
      "See the caveats in the documentation: https://pandas.pydata.org/pandas-docs/stable/user_guide/indexing.html#returning-a-view-versus-a-copy\n",
      "  test[\"predictions\"] = pd.DataFrame(y_pred3)\n"
     ]
    }
   ],
   "source": [
    "test[\"predictions\"] = pd.DataFrame(y_pred3)"
   ]
  },
  {
   "cell_type": "code",
   "execution_count": 30,
   "metadata": {},
   "outputs": [],
   "source": [
    "b_count, w_count, h_count, o_count = 0,0,0,0\n",
    "for i in range(len(test)):\n",
    "    if (test['Race'].iloc[i] == 'Black') & (test.predictions.iloc[i] == 1):\n",
    "        b_count += 1\n",
    "    if (test.Race.iloc[i] == 'White')& (test.predictions.iloc[i] == 1):\n",
    "        w_count += 1\n",
    "    if (test.Race.iloc[i] == 'Hispanic')& (test.predictions.iloc[i] == 1):\n",
    "        h_count += 1\n",
    "    if (test.Race.iloc[i] == 'Other')& (test.predictions.iloc[i] == 1):\n",
    "        o_count += 1"
   ]
  },
  {
   "cell_type": "code",
   "execution_count": 31,
   "metadata": {},
   "outputs": [
    {
     "data": {
      "text/plain": [
       "White       15402\n",
       "Black        7197\n",
       "Hispanic     6612\n",
       "Other        3606\n",
       "Name: Race, dtype: int64"
      ]
     },
     "execution_count": 31,
     "metadata": {},
     "output_type": "execute_result"
    }
   ],
   "source": [
    "test['Race'].value_counts()"
   ]
  },
  {
   "cell_type": "code",
   "execution_count": 57,
   "metadata": {},
   "outputs": [
    {
     "data": {
      "text/plain": [
       "array([0.356199  , 0.41775377, 0.38223488, ..., 0.37846978, 0.31792278,\n",
       "       0.02606808])"
      ]
     },
     "execution_count": 57,
     "metadata": {},
     "output_type": "execute_result"
    }
   ],
   "source": [
    "clf_fit.predict_proba(selected)[:,0]"
   ]
  },
  {
   "cell_type": "code",
   "execution_count": 126,
   "metadata": {},
   "outputs": [
    {
     "data": {
      "image/png": "[encoded data removed]",
      "text/plain": [
       "<Figure size 432x288 with 1 Axes>"
      ]
     },
     "metadata": {
      "needs_background": "light"
     },
     "output_type": "display_data"
    }
   ],
   "source": [
    "ax = sns.boxplot(x = \"Race\", y = clf_fit.predict_proba(selected)[:,0], data = test)\n",
    "ax.set(xlabel='Race', ylabel='Death Probability', title = \"Interactions by Race\")\n",
    "plt.show()"
   ]
  },
  {
   "cell_type": "code",
   "execution_count": 125,
   "metadata": {},
   "outputs": [
    {
     "data": {
      "image/png": "[encoded data removed]",
      "text/plain": [
       "<Figure size 432x288 with 1 Axes>"
      ]
     },
     "metadata": {
      "needs_background": "light"
     },
     "output_type": "display_data"
    }
   ],
   "source": [
    "ax = sns.regplot(x=(test['Age'].astype(float)), y=clf_fit.predict_proba(selected)[:,0], data=test, logistic=True)\n",
    "ax.set(xlabel='Age', ylabel='Death Probability', title = \"Interactions by Age\")\n",
    "plt.show()"
   ]
  },
  {
   "cell_type": "code",
   "execution_count": 60,
   "metadata": {},
   "outputs": [
    {
     "data": {
      "image/png": "[encoded data removed]",
      "text/plain": [
       "<Figure size 432x288 with 1 Axes>"
      ]
     },
     "metadata": {
      "needs_background": "light"
     },
     "output_type": "display_data"
    }
   ],
   "source": [
    "ax = sns.regplot(x=(test['num_gender'].astype(float)), y=clf_fit.predict_proba(selected)[:,0], data=test, logistic=True)\n",
    "ax.set(xlabel='Gender', ylabel='Death Probability', title = \"Interactions by Gender\")\n",
    "plt.show()"
   ]
  },
  {
   "cell_type": "code",
   "execution_count": 41,
   "metadata": {},
   "outputs": [],
   "source": [
    "test.to_csv(r'/Users/noahstein/Documents/DA401/df.csv', index = False)"
   ]
  },
  {
   "cell_type": "code",
   "execution_count": null,
   "metadata": {},
   "outputs": [],
   "source": []
  }
 ],
 "metadata": {
  "kernelspec": {
   "display_name": "Python 3",
   "language": "python",
   "name": "python3"
  },
  "language_info": {
   "codemirror_mode": {
    "name": "ipython",
    "version": 3
   },
   "file_extension": ".py",
   "mimetype": "text/x-python",
   "name": "python",
   "nbconvert_exporter": "python",
   "pygments_lexer": "ipython3",
   "version": "3.8.2"
  }
 },
 "nbformat": 4,
 "nbformat_minor": 4
}
