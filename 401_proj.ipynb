{
 "cells": [
  {
   "cell_type": "code",
   "execution_count": 191,
   "metadata": {},
   "outputs": [],
   "source": [
    "import pandas as pd\n",
    "from sklearn.linear_model import LogisticRegression\n",
    "from sklearn.model_selection import train_test_split\n",
    "import seaborn as sns\n",
    "import numpy as np\n",
    "from functools import reduce\n",
    "from sklearn.cluster import KMeans\n",
    "import matplotlib.pyplot as plt"
   ]
  },
  {
   "cell_type": "code",
   "execution_count": 230,
   "metadata": {},
   "outputs": [],
   "source": [
    "df = pd.read_excel(\"MPVDatasetDownload.xlsx\")"
   ]
  },
  {
   "cell_type": "code",
   "execution_count": 231,
   "metadata": {},
   "outputs": [],
   "source": [
    "df = df.drop(df.columns[[29,30,31,32,33,34,35,36,37,38,39,40,41,42,43,44,45,46,47,48,49]], axis=1)"
   ]
  },
  {
   "cell_type": "code",
   "execution_count": 232,
   "metadata": {},
   "outputs": [
    {
     "data": {
      "text/plain": [
       "Index(['Victim's name', 'Victim's age', 'Victim's gender', 'Victim's race',\n",
       "       'URL of image of victim', 'Date of Incident (month/day/year)',\n",
       "       'Street Address of Incident', 'City', 'State', 'Zipcode', 'County',\n",
       "       'Agency responsible for death', 'ORI Agency Identifier (if available)',\n",
       "       'Cause of death',\n",
       "       'A brief description of the circumstances surrounding the death',\n",
       "       'Official disposition of death (justified or other)',\n",
       "       'Criminal Charges?',\n",
       "       'Link to news article or photo of official document',\n",
       "       'Symptoms of mental illness?', 'Armed/Unarmed Status',\n",
       "       'Alleged Weapon (Source: WaPo and Review of Cases Not Included in WaPo Database)',\n",
       "       'Alleged Threat Level (Source: WaPo)', 'Fleeing (Source: WaPo)',\n",
       "       'Body Camera (Source: WaPo)', 'WaPo ID (If included in WaPo database)',\n",
       "       'Off-Duty Killing?',\n",
       "       'Geography (via Trulia methodology based on zipcode population density: http://jedkolko.com/wp-content/uploads/2015/05/full-ZCTA-urban-suburban-rural-classification.xlsx )',\n",
       "       'MPV ID', 'Fatal Encounters ID'],\n",
       "      dtype='object')"
      ]
     },
     "execution_count": 232,
     "metadata": {},
     "output_type": "execute_result"
    }
   ],
   "source": [
    "df.columns"
   ]
  },
  {
   "cell_type": "code",
   "execution_count": 233,
   "metadata": {},
   "outputs": [],
   "source": [
    "df.rename(columns={'Victim\\'s name': 'Name', 'Victim\\'s age': 'Age', \"Victim\\'s gender\": \"Gender\",\n",
    "                   \"Victim\\'s race\": \"Race\",  'Date of Incident (month/day/year)': \"Date\", \n",
    "                   \"Agency responsible for death\" : \"Agency\", \"Cause of death\" : \"CoD\", \n",
    "                   \"Official disposition of death (justified or other)\" : \"deathDisposition\",\n",
    "                   \"Criminal Charges?\" : \"criminalCharge\", \"Symptoms of mental illness?\": \"sympMentalIll\",\n",
    "                  \"Armed/Unarmed Status\" : \"armedStatus\",\n",
    "                  \"Alleged Weapon (Source: WaPo and Review of Cases Not Included in WaPo Database)\" : \"allegedWeapon\",\n",
    "                  \"Alleged Threat Level (Source: WaPo)\": \"allegedThreat\", \"Fleeing (Source: WaPo)\": \"Fleeing\",\n",
    "                  \"Body Camera (Source: WaPo)\": \"bodyCam\", \"Off-Duty Killing?\": \"offDuty\"}, inplace=True)\n",
    "\n",
    "\n",
    "df = df.drop(columns=['URL of image of victim', 'Street Address of Incident', 'ORI Agency Identifier (if available)'\n",
    "                 ,'A brief description of the circumstances surrounding the death', 'Link to news article or photo of official document'\n",
    "                 ,'WaPo ID (If included in WaPo database)', 'Geography (via Trulia methodology based on zipcode population density: http://jedkolko.com/wp-content/uploads/2015/05/full-ZCTA-urban-suburban-rural-classification.xlsx )',\n",
    "                  'MPV ID', 'Fatal Encounters ID'])\n"
   ]
  },
  {
   "cell_type": "code",
   "execution_count": 234,
   "metadata": {},
   "outputs": [
    {
     "name": "stderr",
     "output_type": "stream",
     "text": [
      "<ipython-input-234-fb282a674539>:3: SettingWithCopyWarning: \n",
      "A value is trying to be set on a copy of a slice from a DataFrame\n",
      "\n",
      "See the caveats in the documentation: https://pandas.pydata.org/pandas-docs/stable/user_guide/indexing.html#returning-a-view-versus-a-copy\n",
      "  df['sympMentalIll'][i] = \"UI\"\n",
      "<ipython-input-234-fb282a674539>:5: SettingWithCopyWarning: \n",
      "A value is trying to be set on a copy of a slice from a DataFrame\n",
      "\n",
      "See the caveats in the documentation: https://pandas.pydata.org/pandas-docs/stable/user_guide/indexing.html#returning-a-view-versus-a-copy\n",
      "  df['sympMentalIll'][i] = \"Unknown\"\n",
      "<ipython-input-234-fb282a674539>:7: SettingWithCopyWarning: \n",
      "A value is trying to be set on a copy of a slice from a DataFrame\n",
      "\n",
      "See the caveats in the documentation: https://pandas.pydata.org/pandas-docs/stable/user_guide/indexing.html#returning-a-view-versus-a-copy\n",
      "  df['sympMentalIll'][i] = \"Unknown\"\n",
      "<ipython-input-234-fb282a674539>:9: SettingWithCopyWarning: \n",
      "A value is trying to be set on a copy of a slice from a DataFrame\n",
      "\n",
      "See the caveats in the documentation: https://pandas.pydata.org/pandas-docs/stable/user_guide/indexing.html#returning-a-view-versus-a-copy\n",
      "  df['sympMentalIll'][i] = \"Unknown\"\n"
     ]
    }
   ],
   "source": [
    "for i in range(len(df[\"sympMentalIll\"])):\n",
    "    if df['sympMentalIll'][i] == \"Drug or alcohol use\":\n",
    "        df['sympMentalIll'][i] = \"UI\"\n",
    "    if df['sympMentalIll'][i] == \"Unkown\":\n",
    "        df['sympMentalIll'][i] = \"Unknown\"\n",
    "    if df['sympMentalIll'][i] == \"Unknown \":\n",
    "        df['sympMentalIll'][i] = \"Unknown\"\n",
    "    if df['sympMentalIll'][i] == \"unknown\":\n",
    "        df['sympMentalIll'][i] = \"Unknown\""
   ]
  },
  {
   "cell_type": "code",
   "execution_count": 235,
   "metadata": {},
   "outputs": [],
   "source": [
    "df['sympMentalIll']= df['sympMentalIll'].astype(str)"
   ]
  },
  {
   "cell_type": "code",
   "execution_count": 236,
   "metadata": {},
   "outputs": [
    {
     "data": {
      "text/plain": [
       "array(['Female', 'Male', 'Unknown', 'Trans'], dtype=object)"
      ]
     },
     "execution_count": 236,
     "metadata": {},
     "output_type": "execute_result"
    }
   ],
   "source": [
    "df[\"Gender\"] = df[\"Gender\"].replace(\"Male \", \"Male\")\n",
    "df[\"Gender\"] = df[\"Gender\"].replace(\"Transgender\", \"Trans\")\n",
    "df['Gender'] = df['Gender'].replace(np.nan, \"Unknown\")\n",
    "df.Gender.unique()\n"
   ]
  },
  {
   "cell_type": "code",
   "execution_count": 237,
   "metadata": {},
   "outputs": [
    {
     "data": {
      "text/plain": [
       "<matplotlib.axes._subplots.AxesSubplot at 0x7fcffa161ee0>"
      ]
     },
     "execution_count": 237,
     "metadata": {},
     "output_type": "execute_result"
    },
    {
     "data": {
      "image/png": "[encoded data removed]",
      "text/plain": [
       "<Figure size 432x288 with 1 Axes>"
      ]
     },
     "metadata": {
      "needs_background": "light"
     },
     "output_type": "display_data"
    }
   ],
   "source": [
    "sns.histplot(data=df, x=\"sympMentalIll\")"
   ]
  },
  {
   "cell_type": "code",
   "execution_count": 238,
   "metadata": {},
   "outputs": [
    {
     "data": {
      "text/plain": [
       "<matplotlib.axes._subplots.AxesSubplot at 0x7fcff60c14f0>"
      ]
     },
     "execution_count": 238,
     "metadata": {},
     "output_type": "execute_result"
    },
    {
     "data": {
      "image/png": "[encoded data removed]",
      "text/plain": [
       "<Figure size 432x288 with 1 Axes>"
      ]
     },
     "metadata": {
      "needs_background": "light"
     },
     "output_type": "display_data"
    }
   ],
   "source": [
    "sns.lineplot(data = df, x = \"State\", y = \"Race\")"
   ]
  },
  {
   "cell_type": "code",
   "execution_count": 240,
   "metadata": {},
   "outputs": [],
   "source": [
    "race_List = ['White', 'Black', 'Other', 'Hispanic']\n",
    "gender_List = ['Male', 'Female']\n",
    "age_List = [16, 17, 18,19,20,21,22,23,24,25,26,27,28,29,30,31,32,33,34,35,36,37,38,39,40,41, 42,43,44, 45,46,47,48,49,50,51,52,53,54,55,56,57,58,59,60,61,62,63,64,65]"
   ]
  },
  {
   "cell_type": "code",
   "execution_count": 241,
   "metadata": {},
   "outputs": [],
   "source": [
    "race_df = pd.DataFrame(np.arange(50000).reshape(50000,1)).applymap(lambda x: np.random.choice(race_List, p=[0.48, 0.21, 0.10, 0.21]))\n",
    "gender_df = pd.DataFrame(np.arange(50000).reshape(50000,1)).applymap(lambda x: np.random.choice(gender_List, p=[0.49, 0.51]))\n",
    "age_df = pd.DataFrame(np.arange(50000).reshape(50000,1)).applymap(lambda x: np.random.choice(age_List, p=[0.035, .035, 0.0285, 0.0285, .0285,\n",
    "                                                                                                         0.0285, 0.0285, 0.0285, 0.0285, .015, \n",
    "                                                                                                         .015, .015, .015, .015, .015, .015, \n",
    "                                                                                                         .015, .015, .015, .015, .015, .015, \n",
    "                                                                                                         .015, .015, .015, .015, .015, .015, \n",
    "                                                                                                         .015, .013, .013, .013, .013, .013, \n",
    "                                                                                                         .013, .013, .013, .013, .013, .013, \n",
    "                                                                                                         .013, .013, .013, .013, .013, .013, \n",
    "                                                                                                         .013, .013, .013, .1705]))"
   ]
  },
  {
   "cell_type": "code",
   "execution_count": 242,
   "metadata": {},
   "outputs": [],
   "source": [
    "race_df.index.name = \"index\"\n",
    "race_df.columns = ['Race']\n",
    "gender_df.index.name = 'index'\n",
    "gender_df.columns = ['Gender']\n",
    "age_df.index.name = \"index\"\n",
    "age_df.columns = ['Age']"
   ]
  },
  {
   "cell_type": "code",
   "execution_count": 243,
   "metadata": {},
   "outputs": [],
   "source": [
    "df['Race'] = df['Race'].replace([\"Unknown race\", \"Pacific Islander\", \"Native American\", \"Asian\"], \"Other\")\n",
    "\n",
    "df['CoD'] = df['CoD'].replace(['Gunshot', 'Gunshot, Taser', 'Vehicle', 'Tasered',\n",
    "       'Physical Restraint', 'Taser', 'Chemical agent/Pepper spray',\n",
    "       'Beaten', 'Beaten/Bludgeoned with instrument', 'Other',\n",
    "       'Gunshot, Beanbag Gun', 'Gunshot, Police Dog',\n",
    "       'Gunshot, Bean Bag Gun', 'Gunshot, Pepper Spray', 'Bean bag',\n",
    "       'Gunshot, Taser, Baton', 'Gunshot, Taser, Beanbag Shotgun',\n",
    "       'Pepper Spray', 'Asphyxiated',\n",
    "       'Gunshot, Unspecified Less Lethal Weapon', 'Physical restraint',\n",
    "       'Taser, Baton', 'Bomb', 'Taser, Physical Restraint',\n",
    "       'Baton, Pepper Spray, Physical Restraint', 'Gunshot, Vehicle',\n",
    "       'Gunshot, Stabbed', 'Gunshot, Taser, Pepper spray',\n",
    "       'Taser, Pepper Spray, Beaten', 'Taser, Beaten',\n",
    "       'Taser, Pepper spray, beaten'], \"Death\")"
   ]
  },
  {
   "cell_type": "code",
   "execution_count": 244,
   "metadata": {},
   "outputs": [],
   "source": [
    "new_df = [race_df, gender_df, age_df]"
   ]
  },
  {
   "cell_type": "code",
   "execution_count": 245,
   "metadata": {},
   "outputs": [],
   "source": [
    "df_final = reduce(lambda left,right: pd.merge(left,right,on=\"index\"), new_df)"
   ]
  },
  {
   "cell_type": "code",
   "execution_count": 246,
   "metadata": {},
   "outputs": [],
   "source": [
    "test = df.append(df_final)"
   ]
  },
  {
   "cell_type": "code",
   "execution_count": 249,
   "metadata": {},
   "outputs": [
    {
     "data": {
      "text/html": [
       "<div>\n",
       "<style scoped>\n",
       "    .dataframe tbody tr th:only-of-type {\n",
       "        vertical-align: middle;\n",
       "    }\n",
       "\n",
       "    .dataframe tbody tr th {\n",
       "        vertical-align: top;\n",
       "    }\n",
       "\n",
       "    .dataframe thead th {\n",
       "        text-align: right;\n",
       "    }\n",
       "</style>\n",
       "<table border=\"1\" class=\"dataframe\">\n",
       "  <thead>\n",
       "    <tr style=\"text-align: right;\">\n",
       "      <th></th>\n",
       "      <th>Name</th>\n",
       "      <th>Age</th>\n",
       "      <th>Gender</th>\n",
       "      <th>Race</th>\n",
       "      <th>Date</th>\n",
       "      <th>City</th>\n",
       "      <th>State</th>\n",
       "      <th>Zipcode</th>\n",
       "      <th>County</th>\n",
       "      <th>Agency</th>\n",
       "      <th>CoD</th>\n",
       "      <th>deathDisposition</th>\n",
       "      <th>criminalCharge</th>\n",
       "      <th>sympMentalIll</th>\n",
       "      <th>armedStatus</th>\n",
       "      <th>allegedWeapon</th>\n",
       "      <th>allegedThreat</th>\n",
       "      <th>Fleeing</th>\n",
       "      <th>bodyCam</th>\n",
       "      <th>offDuty</th>\n",
       "    </tr>\n",
       "  </thead>\n",
       "  <tbody>\n",
       "    <tr>\n",
       "      <th>0</th>\n",
       "      <td>Name withheld by police</td>\n",
       "      <td>NaN</td>\n",
       "      <td>Female</td>\n",
       "      <td>Other</td>\n",
       "      <td>2021-01-26</td>\n",
       "      <td>Aurora</td>\n",
       "      <td>CO</td>\n",
       "      <td>80137.0</td>\n",
       "      <td>Adams</td>\n",
       "      <td>Adams County Sheriff's Office</td>\n",
       "      <td>Death</td>\n",
       "      <td>Pending investigation</td>\n",
       "      <td>No known charges</td>\n",
       "      <td>No</td>\n",
       "      <td>Allegedly Armed</td>\n",
       "      <td>gun</td>\n",
       "      <td>other</td>\n",
       "      <td>not fleeing</td>\n",
       "      <td>NaN</td>\n",
       "      <td>NaN</td>\n",
       "    </tr>\n",
       "    <tr>\n",
       "      <th>1</th>\n",
       "      <td>John Eric Ostbye</td>\n",
       "      <td>50</td>\n",
       "      <td>Male</td>\n",
       "      <td>White</td>\n",
       "      <td>2021-01-25</td>\n",
       "      <td>Graham</td>\n",
       "      <td>WA</td>\n",
       "      <td>98338.0</td>\n",
       "      <td>Pierce</td>\n",
       "      <td>Pierce County Sheriff's Office</td>\n",
       "      <td>Death</td>\n",
       "      <td>Pending investigation</td>\n",
       "      <td>No known charges</td>\n",
       "      <td>No</td>\n",
       "      <td>Allegedly Armed</td>\n",
       "      <td>knife</td>\n",
       "      <td>other</td>\n",
       "      <td>not fleeing</td>\n",
       "      <td>NaN</td>\n",
       "      <td>NaN</td>\n",
       "    </tr>\n",
       "    <tr>\n",
       "      <th>2</th>\n",
       "      <td>Tyree Kajawn Rogers</td>\n",
       "      <td>38</td>\n",
       "      <td>Male</td>\n",
       "      <td>Black</td>\n",
       "      <td>2021-01-24</td>\n",
       "      <td>Wichita Falls</td>\n",
       "      <td>TX</td>\n",
       "      <td>76305.0</td>\n",
       "      <td>Wichita Falls</td>\n",
       "      <td>Wichita County Sheriff's Office</td>\n",
       "      <td>Death</td>\n",
       "      <td>Pending investigation</td>\n",
       "      <td>No known charges</td>\n",
       "      <td>No</td>\n",
       "      <td>Vehicle</td>\n",
       "      <td>vehicle</td>\n",
       "      <td>attack</td>\n",
       "      <td>car</td>\n",
       "      <td>no</td>\n",
       "      <td>NaN</td>\n",
       "    </tr>\n",
       "    <tr>\n",
       "      <th>3</th>\n",
       "      <td>Caleb McCree</td>\n",
       "      <td>43</td>\n",
       "      <td>Male</td>\n",
       "      <td>White</td>\n",
       "      <td>2021-01-24</td>\n",
       "      <td>Slidell</td>\n",
       "      <td>LA</td>\n",
       "      <td>70460.0</td>\n",
       "      <td>St. Tammany</td>\n",
       "      <td>Slidell Police Department, St. Tammany Parish ...</td>\n",
       "      <td>Death</td>\n",
       "      <td>Pending investigation</td>\n",
       "      <td>No known charges</td>\n",
       "      <td>Yes</td>\n",
       "      <td>Allegedly Armed</td>\n",
       "      <td>box cutter</td>\n",
       "      <td>attack</td>\n",
       "      <td>NaN</td>\n",
       "      <td>no</td>\n",
       "      <td>NaN</td>\n",
       "    </tr>\n",
       "    <tr>\n",
       "      <th>4</th>\n",
       "      <td>Steven Verdone</td>\n",
       "      <td>NaN</td>\n",
       "      <td>Male</td>\n",
       "      <td>White</td>\n",
       "      <td>2021-01-22</td>\n",
       "      <td>Homosassa</td>\n",
       "      <td>FL</td>\n",
       "      <td>34446.0</td>\n",
       "      <td>Citrus</td>\n",
       "      <td>Citrus County Sheriff's Office</td>\n",
       "      <td>Death</td>\n",
       "      <td>Pending investigation</td>\n",
       "      <td>No known charges</td>\n",
       "      <td>Unknown</td>\n",
       "      <td>Allegedly Armed</td>\n",
       "      <td>knife</td>\n",
       "      <td>other</td>\n",
       "      <td>not fleeing</td>\n",
       "      <td>no</td>\n",
       "      <td>NaN</td>\n",
       "    </tr>\n",
       "    <tr>\n",
       "      <th>...</th>\n",
       "      <td>...</td>\n",
       "      <td>...</td>\n",
       "      <td>...</td>\n",
       "      <td>...</td>\n",
       "      <td>...</td>\n",
       "      <td>...</td>\n",
       "      <td>...</td>\n",
       "      <td>...</td>\n",
       "      <td>...</td>\n",
       "      <td>...</td>\n",
       "      <td>...</td>\n",
       "      <td>...</td>\n",
       "      <td>...</td>\n",
       "      <td>...</td>\n",
       "      <td>...</td>\n",
       "      <td>...</td>\n",
       "      <td>...</td>\n",
       "      <td>...</td>\n",
       "      <td>...</td>\n",
       "      <td>...</td>\n",
       "    </tr>\n",
       "    <tr>\n",
       "      <th>49995</th>\n",
       "      <td>NaN</td>\n",
       "      <td>30</td>\n",
       "      <td>Male</td>\n",
       "      <td>Black</td>\n",
       "      <td>NaT</td>\n",
       "      <td>NaN</td>\n",
       "      <td>NaN</td>\n",
       "      <td>NaN</td>\n",
       "      <td>NaN</td>\n",
       "      <td>NaN</td>\n",
       "      <td>Alive</td>\n",
       "      <td>NaN</td>\n",
       "      <td>NaN</td>\n",
       "      <td>NaN</td>\n",
       "      <td>NaN</td>\n",
       "      <td>NaN</td>\n",
       "      <td>NaN</td>\n",
       "      <td>NaN</td>\n",
       "      <td>NaN</td>\n",
       "      <td>NaN</td>\n",
       "    </tr>\n",
       "    <tr>\n",
       "      <th>49996</th>\n",
       "      <td>NaN</td>\n",
       "      <td>17</td>\n",
       "      <td>Female</td>\n",
       "      <td>Hispanic</td>\n",
       "      <td>NaT</td>\n",
       "      <td>NaN</td>\n",
       "      <td>NaN</td>\n",
       "      <td>NaN</td>\n",
       "      <td>NaN</td>\n",
       "      <td>NaN</td>\n",
       "      <td>Alive</td>\n",
       "      <td>NaN</td>\n",
       "      <td>NaN</td>\n",
       "      <td>NaN</td>\n",
       "      <td>NaN</td>\n",
       "      <td>NaN</td>\n",
       "      <td>NaN</td>\n",
       "      <td>NaN</td>\n",
       "      <td>NaN</td>\n",
       "      <td>NaN</td>\n",
       "    </tr>\n",
       "    <tr>\n",
       "      <th>49997</th>\n",
       "      <td>NaN</td>\n",
       "      <td>30</td>\n",
       "      <td>Male</td>\n",
       "      <td>White</td>\n",
       "      <td>NaT</td>\n",
       "      <td>NaN</td>\n",
       "      <td>NaN</td>\n",
       "      <td>NaN</td>\n",
       "      <td>NaN</td>\n",
       "      <td>NaN</td>\n",
       "      <td>Alive</td>\n",
       "      <td>NaN</td>\n",
       "      <td>NaN</td>\n",
       "      <td>NaN</td>\n",
       "      <td>NaN</td>\n",
       "      <td>NaN</td>\n",
       "      <td>NaN</td>\n",
       "      <td>NaN</td>\n",
       "      <td>NaN</td>\n",
       "      <td>NaN</td>\n",
       "    </tr>\n",
       "    <tr>\n",
       "      <th>49998</th>\n",
       "      <td>NaN</td>\n",
       "      <td>39</td>\n",
       "      <td>Female</td>\n",
       "      <td>White</td>\n",
       "      <td>NaT</td>\n",
       "      <td>NaN</td>\n",
       "      <td>NaN</td>\n",
       "      <td>NaN</td>\n",
       "      <td>NaN</td>\n",
       "      <td>NaN</td>\n",
       "      <td>Alive</td>\n",
       "      <td>NaN</td>\n",
       "      <td>NaN</td>\n",
       "      <td>NaN</td>\n",
       "      <td>NaN</td>\n",
       "      <td>NaN</td>\n",
       "      <td>NaN</td>\n",
       "      <td>NaN</td>\n",
       "      <td>NaN</td>\n",
       "      <td>NaN</td>\n",
       "    </tr>\n",
       "    <tr>\n",
       "      <th>49999</th>\n",
       "      <td>NaN</td>\n",
       "      <td>65</td>\n",
       "      <td>Female</td>\n",
       "      <td>Other</td>\n",
       "      <td>NaT</td>\n",
       "      <td>NaN</td>\n",
       "      <td>NaN</td>\n",
       "      <td>NaN</td>\n",
       "      <td>NaN</td>\n",
       "      <td>NaN</td>\n",
       "      <td>Alive</td>\n",
       "      <td>NaN</td>\n",
       "      <td>NaN</td>\n",
       "      <td>NaN</td>\n",
       "      <td>NaN</td>\n",
       "      <td>NaN</td>\n",
       "      <td>NaN</td>\n",
       "      <td>NaN</td>\n",
       "      <td>NaN</td>\n",
       "      <td>NaN</td>\n",
       "    </tr>\n",
       "  </tbody>\n",
       "</table>\n",
       "<p>58837 rows × 20 columns</p>\n",
       "</div>"
      ],
      "text/plain": [
       "                          Name  Age  Gender      Race       Date  \\\n",
       "0      Name withheld by police  NaN  Female     Other 2021-01-26   \n",
       "1             John Eric Ostbye   50    Male     White 2021-01-25   \n",
       "2          Tyree Kajawn Rogers   38    Male     Black 2021-01-24   \n",
       "3                 Caleb McCree   43    Male     White 2021-01-24   \n",
       "4               Steven Verdone  NaN    Male     White 2021-01-22   \n",
       "...                        ...  ...     ...       ...        ...   \n",
       "49995                      NaN   30    Male     Black        NaT   \n",
       "49996                      NaN   17  Female  Hispanic        NaT   \n",
       "49997                      NaN   30    Male     White        NaT   \n",
       "49998                      NaN   39  Female     White        NaT   \n",
       "49999                      NaN   65  Female     Other        NaT   \n",
       "\n",
       "                City State  Zipcode         County  \\\n",
       "0             Aurora    CO  80137.0          Adams   \n",
       "1             Graham    WA  98338.0         Pierce   \n",
       "2      Wichita Falls    TX  76305.0  Wichita Falls   \n",
       "3            Slidell    LA  70460.0    St. Tammany   \n",
       "4          Homosassa    FL  34446.0         Citrus   \n",
       "...              ...   ...      ...            ...   \n",
       "49995            NaN   NaN      NaN            NaN   \n",
       "49996            NaN   NaN      NaN            NaN   \n",
       "49997            NaN   NaN      NaN            NaN   \n",
       "49998            NaN   NaN      NaN            NaN   \n",
       "49999            NaN   NaN      NaN            NaN   \n",
       "\n",
       "                                                  Agency    CoD  \\\n",
       "0                          Adams County Sheriff's Office  Death   \n",
       "1                         Pierce County Sheriff's Office  Death   \n",
       "2                        Wichita County Sheriff's Office  Death   \n",
       "3      Slidell Police Department, St. Tammany Parish ...  Death   \n",
       "4                         Citrus County Sheriff's Office  Death   \n",
       "...                                                  ...    ...   \n",
       "49995                                                NaN  Alive   \n",
       "49996                                                NaN  Alive   \n",
       "49997                                                NaN  Alive   \n",
       "49998                                                NaN  Alive   \n",
       "49999                                                NaN  Alive   \n",
       "\n",
       "            deathDisposition    criminalCharge sympMentalIll      armedStatus  \\\n",
       "0      Pending investigation  No known charges            No  Allegedly Armed   \n",
       "1      Pending investigation  No known charges            No  Allegedly Armed   \n",
       "2      Pending investigation  No known charges            No          Vehicle   \n",
       "3      Pending investigation  No known charges           Yes  Allegedly Armed   \n",
       "4      Pending investigation  No known charges       Unknown  Allegedly Armed   \n",
       "...                      ...               ...           ...              ...   \n",
       "49995                    NaN               NaN           NaN              NaN   \n",
       "49996                    NaN               NaN           NaN              NaN   \n",
       "49997                    NaN               NaN           NaN              NaN   \n",
       "49998                    NaN               NaN           NaN              NaN   \n",
       "49999                    NaN               NaN           NaN              NaN   \n",
       "\n",
       "      allegedWeapon allegedThreat      Fleeing bodyCam offDuty  \n",
       "0               gun         other  not fleeing     NaN     NaN  \n",
       "1             knife         other  not fleeing     NaN     NaN  \n",
       "2           vehicle        attack          car      no     NaN  \n",
       "3        box cutter        attack          NaN      no     NaN  \n",
       "4             knife         other  not fleeing      no     NaN  \n",
       "...             ...           ...          ...     ...     ...  \n",
       "49995           NaN           NaN          NaN     NaN     NaN  \n",
       "49996           NaN           NaN          NaN     NaN     NaN  \n",
       "49997           NaN           NaN          NaN     NaN     NaN  \n",
       "49998           NaN           NaN          NaN     NaN     NaN  \n",
       "49999           NaN           NaN          NaN     NaN     NaN  \n",
       "\n",
       "[58837 rows x 20 columns]"
      ]
     },
     "execution_count": 249,
     "metadata": {},
     "output_type": "execute_result"
    }
   ],
   "source": [
    "test"
   ]
  },
  {
   "cell_type": "code",
   "execution_count": 248,
   "metadata": {},
   "outputs": [],
   "source": [
    "test['CoD'] = test['CoD'].replace(np.nan, \"Alive\")"
   ]
  },
  {
   "cell_type": "code",
   "execution_count": 250,
   "metadata": {},
   "outputs": [],
   "source": [
    "test['num_race'] = test[\"Race\"]\n",
    "test['num_race'] = test['num_race'].replace('White', 0)\n",
    "test['num_race'] = test['num_race'].replace('Black', 1)\n",
    "test['num_race'] = test['num_race'].replace('Hispanic', 2)\n",
    "test['num_race'] = test['num_race'].replace('Other', 3)"
   ]
  },
  {
   "cell_type": "code",
   "execution_count": 251,
   "metadata": {},
   "outputs": [],
   "source": [
    "test['num_gender'] = test['Gender']\n",
    "test['num_gender'] = test['num_gender'].replace('Male', 0)\n",
    "test['num_gender'] = test['num_gender'].replace('Female', 1)\n",
    "test['num_gender'] = test['num_gender'].replace('Trans', 2)\n",
    "test['num_gender'] = test['num_gender'].replace('Unknown', 3)"
   ]
  },
  {
   "cell_type": "code",
   "execution_count": 252,
   "metadata": {},
   "outputs": [],
   "source": [
    "selected = test[['num_race','num_gender']].values\n",
    "y = test[\"CoD\"].values"
   ]
  },
  {
   "cell_type": "code",
   "execution_count": 253,
   "metadata": {},
   "outputs": [],
   "source": [
    "clf = LogisticRegression(random_state=350)\n",
    "clf_fit = clf.fit(selected, y)\n",
    "clf_fit.predict_proba(selected)\n",
    "y_pred3 = clf_fit.predict(selected)"
   ]
  },
  {
   "cell_type": "code",
   "execution_count": 254,
   "metadata": {},
   "outputs": [
    {
     "data": {
      "text/plain": [
       "(array([    0,     1,     2, ..., 58834, 58835, 58836]),)"
      ]
     },
     "execution_count": 254,
     "metadata": {},
     "output_type": "execute_result"
    }
   ],
   "source": [
    "(np.where(y_pred3 == \"Alive\"))"
   ]
  },
  {
   "cell_type": "code",
   "execution_count": 255,
   "metadata": {},
   "outputs": [],
   "source": [
    "kmeans = KMeans(n_clusters = 2,random_state = 350,  init = \"k-means++\")\n",
    "kmeans_fit = kmeans.fit(selected)\n",
    "labels1 = kmeans_fit.labels_"
   ]
  },
  {
   "cell_type": "code",
   "execution_count": 256,
   "metadata": {},
   "outputs": [],
   "source": [
    "y_pred3 = np.where(y_pred3==\"Death\", 0, y_pred3) \n",
    "y_pred3 = np.where(y_pred3==\"Alive\", 1, y_pred3) "
   ]
  },
  {
   "cell_type": "code",
   "execution_count": 257,
   "metadata": {},
   "outputs": [],
   "source": [
    "#y_pred3 =  y_pred3.astype(int)\n",
    "\n",
    "X = pd.DataFrame({\"Kmeans++\" : labels1, \"Logistic\": y_pred3})\n",
    "\n",
    "X_train, X_test, y_train, y_test = train_test_split(selected, y, stratify=y, random_state=42)\n",
    "clf = LogisticRegression(random_state=0).fit(X_train, y_train)\n",
    "pred = clf.predict(X)"
   ]
  },
  {
   "cell_type": "code",
   "execution_count": 258,
   "metadata": {},
   "outputs": [],
   "source": [
    "y_kmeans = kmeans.fit_predict(selected)"
   ]
  },
  {
   "cell_type": "code",
   "execution_count": 259,
   "metadata": {},
   "outputs": [
    {
     "data": {
      "text/plain": [
       "array([1, 0, 0, ..., 0, 0, 1], dtype=int32)"
      ]
     },
     "execution_count": 259,
     "metadata": {},
     "output_type": "execute_result"
    }
   ],
   "source": [
    "y_kmeans"
   ]
  },
  {
   "cell_type": "code",
   "execution_count": 260,
   "metadata": {},
   "outputs": [
    {
     "data": {
      "image/png": "[encoded data removed]",
      "text/plain": [
       "<Figure size 432x288 with 1 Axes>"
      ]
     },
     "metadata": {
      "needs_background": "light"
     },
     "output_type": "display_data"
    }
   ],
   "source": [
    "plt.scatter(selected[y_kmeans==0, 0], selected[y_kmeans==0, 1], s=10, c='red', label ='Cluster 1')\n",
    "plt.scatter(selected[y_kmeans==1, 0], selected[y_kmeans==1, 1], s=10, c='blue', label ='Cluster 2')\n",
    "\n",
    "plt.scatter(kmeans.cluster_centers_[:, 0], kmeans.cluster_centers_[:, 1], s=300, c='yellow', label = 'Centroids')\n",
    "plt.show()"
   ]
  },
  {
   "cell_type": "code",
   "execution_count": 261,
   "metadata": {},
   "outputs": [
    {
     "data": {
      "text/plain": [
       "<matplotlib.collections.PathCollection at 0x7fcff8c438b0>"
      ]
     },
     "execution_count": 261,
     "metadata": {},
     "output_type": "execute_result"
    },
    {
     "data": {
      "image/png": "[encoded data removed]",
      "text/plain": [
       "<Figure size 432x288 with 1 Axes>"
      ]
     },
     "metadata": {
      "needs_background": "light"
     },
     "output_type": "display_data"
    }
   ],
   "source": [
    "plt.scatter(selected[:, 0], selected[:, 1], c=y_kmeans, s=50, cmap='viridis')"
   ]
  },
  {
   "cell_type": "code",
   "execution_count": null,
   "metadata": {},
   "outputs": [],
   "source": []
  }
 ],
 "metadata": {
  "kernelspec": {
   "display_name": "Python 3",
   "language": "python",
   "name": "python3"
  },
  "language_info": {
   "codemirror_mode": {
    "name": "ipython",
    "version": 3
   },
   "file_extension": ".py",
   "mimetype": "text/x-python",
   "name": "python",
   "nbconvert_exporter": "python",
   "pygments_lexer": "ipython3",
   "version": "3.8.3"
  }
 },
 "nbformat": 4,
 "nbformat_minor": 4
}
