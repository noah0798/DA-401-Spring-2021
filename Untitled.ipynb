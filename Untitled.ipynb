{
 "cells": [
  {
   "cell_type": "code",
   "execution_count": 56,
   "metadata": {},
   "outputs": [],
   "source": [
    "import pandas as pd\n",
    "from sklearn.linear_model import LinearRegression\n",
    "from sklearn.model_selection import train_test_split"
   ]
  },
  {
   "cell_type": "code",
   "execution_count": 71,
   "metadata": {},
   "outputs": [],
   "source": [
    "df = pd.read_excel(\"MPVDatasetDownload.xlsx\")"
   ]
  },
  {
   "cell_type": "code",
   "execution_count": 74,
   "metadata": {},
   "outputs": [],
   "source": [
    "df.rename(columns={'Victim\\'s name': 'Name', 'Victim\\'s age': 'Age', \"Victim\\'s gender\": \"Gender\",\n",
    "                   \"Victim\\'s race\": \"Race\",  'Date of Incident (month/day/year)': \"Date\", \n",
    "                   \"Agency responsible for death\" : \"Agency\", \"Cause of death\" : \"CoD\", \n",
    "                   \"Official disposition of death (justified or other)\" : \"deathDisposition\",\n",
    "                   \"Criminal Charges?\" : \"criminalCharge\", \"Symptoms of mental illness?\": \"sympMentalIll\",\n",
    "                  \"Armed/Unarmed Status\" : \"armedStatus\",\n",
    "                  \"Alleged Weapon (Source: WaPo and Review of Cases Not Included in WaPo Database)\" : \"allegedWeapon\",\n",
    "                  \"Alleged Threat Level (Source: WaPo)\": \"allegedThreat\", \"Fleeing (Source: WaPo)\": \"Fleeing\",\n",
    "                  \"Body Camera (Source: WaPo)\": \"bodyCam\", \"Off-Duty Killing?\": \"offDuty\"}, inplace=True)\n",
    "\n",
    "\n",
    "df = df.drop(columns=['URL of image of victim', 'Street Address of Incident', 'ORI Agency Identifier (if available)'\n",
    "                 ,'A brief description of the circumstances surrounding the death', 'Link to news article or photo of official document'\n",
    "                 ,'WaPo ID (If included in WaPo database)', 'Geography (via Trulia methodology based on zipcode population density: http://jedkolko.com/wp-content/uploads/2015/05/full-ZCTA-urban-suburban-rural-classification.xlsx )',\n",
    "                  'MPV ID', 'Fatal Encounters ID', 'order', 'Encounter Type (DRAFT)', \n",
    "                      'Initial Reported Reason for Encounter (DRAFT)', 'Names of Officers Involved (DRAFT, currently have data for 2020 and 2017 only)'\n",
    "                     , 'Race of Officers Involved (DRAFT)', 'Known Past Shootings of Officer(s) (DRAFT)',\n",
    "                     'Call for Service? (DRAFT)'])\n"
   ]
  },
  {
   "cell_type": "code",
   "execution_count": 75,
   "metadata": {},
   "outputs": [
    {
     "data": {
      "text/plain": [
       "['Name',\n",
       " 'Age',\n",
       " 'Gender',\n",
       " 'Race',\n",
       " 'Date',\n",
       " 'City',\n",
       " 'State',\n",
       " 'Zipcode',\n",
       " 'County',\n",
       " 'Agency',\n",
       " 'CoD',\n",
       " 'deathDisposition',\n",
       " 'criminalCharge',\n",
       " 'sympMentalIll',\n",
       " 'armedStatus',\n",
       " 'allegedWeapon',\n",
       " 'allegedThreat',\n",
       " 'Fleeing',\n",
       " 'bodyCam',\n",
       " 'offDuty']"
      ]
     },
     "execution_count": 75,
     "metadata": {},
     "output_type": "execute_result"
    }
   ],
   "source": [
    "list(df.columns)"
   ]
  },
  {
   "cell_type": "code",
   "execution_count": 78,
   "metadata": {},
   "outputs": [
    {
     "data": {
      "text/plain": [
       "array(['No', 'Yes', 'Unknown', 'Drug or alcohol use', nan, 'Unkown',\n",
       "       'Unknown ', 'unknown'], dtype=object)"
      ]
     },
     "execution_count": 78,
     "metadata": {},
     "output_type": "execute_result"
    }
   ],
   "source": [
    "df[\"sympMentalIll\"].unique()"
   ]
  },
  {
   "cell_type": "code",
   "execution_count": 36,
   "metadata": {},
   "outputs": [
    {
     "data": {
      "text/plain": [
       "0                        No\n",
       "1                        No\n",
       "2                        No\n",
       "3                       Yes\n",
       "4                   Unknown\n",
       "               ...         \n",
       "8832                     No\n",
       "8833                     No\n",
       "8834                    Yes\n",
       "8835    Drug or alcohol use\n",
       "8836                     No\n",
       "Name: Symptoms of mental illness?, Length: 8837, dtype: object"
      ]
     },
     "execution_count": 36,
     "metadata": {},
     "output_type": "execute_result"
    }
   ],
   "source": [
    "df[\"Symptoms of mental illness?\"]"
   ]
  },
  {
   "cell_type": "code",
   "execution_count": null,
   "metadata": {},
   "outputs": [],
   "source": []
  }
 ],
 "metadata": {
  "kernelspec": {
   "display_name": "Python 3",
   "language": "python",
   "name": "python3"
  },
  "language_info": {
   "codemirror_mode": {
    "name": "ipython",
    "version": 3
   },
   "file_extension": ".py",
   "mimetype": "text/x-python",
   "name": "python",
   "nbconvert_exporter": "python",
   "pygments_lexer": "ipython3",
   "version": "3.8.3"
  }
 },
 "nbformat": 4,
 "nbformat_minor": 4
}
